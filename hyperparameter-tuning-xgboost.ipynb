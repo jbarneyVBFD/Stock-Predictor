{
 "cells": [
  {
   "cell_type": "code",
   "execution_count": 1,
   "metadata": {},
   "outputs": [],
   "source": [
    "import boto3\n",
    "import pandas as pd\n",
    "from sagemaker import get_execution_role\n",
    "import sagemaker\n",
    "import os\n",
    "import re\n",
    "import numpy as np\n",
    "import json\n",
    "import matplotlib.pyplot as plt\n",
    "import sagemaker\n",
    "from sagemaker import get_execution_role\n",
    "from sagemaker.amazon.amazon_estimator import get_image_uri\n",
    "import seaborn as sns\n",
    "import helpers\n",
    "import sklearn.model_selection\n",
    "from sagemaker.tuner import IntegerParameter, ContinuousParameter, HyperparameterTuner"
   ]
  },
  {
   "cell_type": "code",
   "execution_count": 2,
   "metadata": {},
   "outputs": [],
   "source": [
    "# sagemaker session, role\n",
    "sagemaker_session = sagemaker.Session()\n",
    "role = sagemaker.get_execution_role()\n",
    "\n",
    "# S3 bucket name\n",
    "bucket = sagemaker_session.default_bucket()\n"
   ]
  },
  {
   "cell_type": "code",
   "execution_count": 3,
   "metadata": {},
   "outputs": [],
   "source": [
    "ltc_df = pd.read_csv('Data/ltc.csv')"
   ]
  },
  {
   "cell_type": "code",
   "execution_count": 4,
   "metadata": {},
   "outputs": [],
   "source": [
    "ltc_3yr_df = ltc_df[1862:]"
   ]
  },
  {
   "cell_type": "code",
   "execution_count": 5,
   "metadata": {},
   "outputs": [],
   "source": [
    "ltc_3yr_df = ltc_3yr_df.drop(labels='date', axis=1)"
   ]
  },
  {
   "cell_type": "code",
   "execution_count": 6,
   "metadata": {},
   "outputs": [],
   "source": [
    "ltc_3yr_df.index = np.arange(len(ltc_3yr_df))"
   ]
  },
  {
   "cell_type": "code",
   "execution_count": 7,
   "metadata": {},
   "outputs": [],
   "source": [
    "ltc_3yr_df.insert(39, 'Label', 0.0)"
   ]
  },
  {
   "cell_type": "code",
   "execution_count": 8,
   "metadata": {
    "scrolled": true
   },
   "outputs": [
    {
     "name": "stderr",
     "output_type": "stream",
     "text": [
      "/home/ec2-user/anaconda3/envs/mxnet_p36/lib/python3.6/site-packages/ipykernel/__main__.py:3: SettingWithCopyWarning: \n",
      "A value is trying to be set on a copy of a slice from a DataFrame\n",
      "\n",
      "See the caveats in the documentation: http://pandas.pydata.org/pandas-docs/stable/indexing.html#indexing-view-versus-copy\n",
      "  app.launch_new_instance()\n",
      "/home/ec2-user/anaconda3/envs/mxnet_p36/lib/python3.6/site-packages/ipykernel/__main__.py:5: SettingWithCopyWarning: \n",
      "A value is trying to be set on a copy of a slice from a DataFrame\n",
      "\n",
      "See the caveats in the documentation: http://pandas.pydata.org/pandas-docs/stable/indexing.html#indexing-view-versus-copy\n"
     ]
    }
   ],
   "source": [
    "for i in range(len(ltc_3yr_df)):\n",
    "    if i < (len(ltc_3yr_df)-1):\n",
    "        ltc_3yr_df['Label'][i] = ltc_3yr_df['PriceUSD'][i+1]\n",
    "    else:\n",
    "        ltc_3yr_df['Label'][i] = ltc_3yr_df['PriceUSD'][i]"
   ]
  },
  {
   "cell_type": "code",
   "execution_count": 9,
   "metadata": {},
   "outputs": [
    {
     "data": {
      "text/html": [
       "<div>\n",
       "<style scoped>\n",
       "    .dataframe tbody tr th:only-of-type {\n",
       "        vertical-align: middle;\n",
       "    }\n",
       "\n",
       "    .dataframe tbody tr th {\n",
       "        vertical-align: top;\n",
       "    }\n",
       "\n",
       "    .dataframe thead th {\n",
       "        text-align: right;\n",
       "    }\n",
       "</style>\n",
       "<table border=\"1\" class=\"dataframe\">\n",
       "  <thead>\n",
       "    <tr style=\"text-align: right;\">\n",
       "      <th></th>\n",
       "      <th>AdrActCnt</th>\n",
       "      <th>BlkCnt</th>\n",
       "      <th>BlkSizeByte</th>\n",
       "      <th>BlkSizeMeanByte</th>\n",
       "      <th>CapMVRVCur</th>\n",
       "      <th>CapMrktCurUSD</th>\n",
       "      <th>CapRealUSD</th>\n",
       "      <th>DiffMean</th>\n",
       "      <th>FeeMeanNtv</th>\n",
       "      <th>FeeMeanUSD</th>\n",
       "      <th>...</th>\n",
       "      <th>TxTfrValMeanNtv</th>\n",
       "      <th>TxTfrValMeanUSD</th>\n",
       "      <th>TxTfrValMedNtv</th>\n",
       "      <th>TxTfrValMedUSD</th>\n",
       "      <th>TxTfrValNtv</th>\n",
       "      <th>TxTfrValUSD</th>\n",
       "      <th>VtyDayRet180d</th>\n",
       "      <th>VtyDayRet30d</th>\n",
       "      <th>VtyDayRet60d</th>\n",
       "      <th>Label</th>\n",
       "    </tr>\n",
       "  </thead>\n",
       "  <tbody>\n",
       "    <tr>\n",
       "      <th>0</th>\n",
       "      <td>7301</td>\n",
       "      <td>638</td>\n",
       "      <td>1962084</td>\n",
       "      <td>3075.366771</td>\n",
       "      <td>0.657791</td>\n",
       "      <td>1.844730e+08</td>\n",
       "      <td>2.804431e+08</td>\n",
       "      <td>53827.569370</td>\n",
       "      <td>0.006044</td>\n",
       "      <td>0.023037</td>\n",
       "      <td>...</td>\n",
       "      <td>147.744617</td>\n",
       "      <td>563.151417</td>\n",
       "      <td>0.616035</td>\n",
       "      <td>2.348112</td>\n",
       "      <td>1.310052e+06</td>\n",
       "      <td>4.993464e+06</td>\n",
       "      <td>0.029249</td>\n",
       "      <td>0.016593</td>\n",
       "      <td>0.012424</td>\n",
       "      <td>3.747908</td>\n",
       "    </tr>\n",
       "    <tr>\n",
       "      <th>1</th>\n",
       "      <td>10630</td>\n",
       "      <td>576</td>\n",
       "      <td>2417247</td>\n",
       "      <td>4196.609375</td>\n",
       "      <td>0.647167</td>\n",
       "      <td>1.814419e+08</td>\n",
       "      <td>2.803635e+08</td>\n",
       "      <td>53827.569370</td>\n",
       "      <td>0.007412</td>\n",
       "      <td>0.027780</td>\n",
       "      <td>...</td>\n",
       "      <td>233.870536</td>\n",
       "      <td>876.525329</td>\n",
       "      <td>0.159891</td>\n",
       "      <td>0.599259</td>\n",
       "      <td>2.545915e+06</td>\n",
       "      <td>9.541855e+06</td>\n",
       "      <td>0.029240</td>\n",
       "      <td>0.016358</td>\n",
       "      <td>0.012601</td>\n",
       "      <td>3.888318</td>\n",
       "    </tr>\n",
       "    <tr>\n",
       "      <th>2</th>\n",
       "      <td>15468</td>\n",
       "      <td>561</td>\n",
       "      <td>2550985</td>\n",
       "      <td>4547.210339</td>\n",
       "      <td>0.671392</td>\n",
       "      <td>1.882939e+08</td>\n",
       "      <td>2.804530e+08</td>\n",
       "      <td>57164.083717</td>\n",
       "      <td>0.004974</td>\n",
       "      <td>0.019340</td>\n",
       "      <td>...</td>\n",
       "      <td>339.766758</td>\n",
       "      <td>1321.121208</td>\n",
       "      <td>0.013982</td>\n",
       "      <td>0.054368</td>\n",
       "      <td>6.012513e+06</td>\n",
       "      <td>2.337856e+07</td>\n",
       "      <td>0.029359</td>\n",
       "      <td>0.017770</td>\n",
       "      <td>0.013482</td>\n",
       "      <td>3.864308</td>\n",
       "    </tr>\n",
       "    <tr>\n",
       "      <th>3</th>\n",
       "      <td>13481</td>\n",
       "      <td>605</td>\n",
       "      <td>2800901</td>\n",
       "      <td>4629.588430</td>\n",
       "      <td>0.667102</td>\n",
       "      <td>1.871896e+08</td>\n",
       "      <td>2.806010e+08</td>\n",
       "      <td>58578.291575</td>\n",
       "      <td>0.006038</td>\n",
       "      <td>0.023331</td>\n",
       "      <td>...</td>\n",
       "      <td>234.939070</td>\n",
       "      <td>907.877015</td>\n",
       "      <td>0.028395</td>\n",
       "      <td>0.109729</td>\n",
       "      <td>3.063840e+06</td>\n",
       "      <td>1.183962e+07</td>\n",
       "      <td>0.029357</td>\n",
       "      <td>0.017801</td>\n",
       "      <td>0.013501</td>\n",
       "      <td>3.898460</td>\n",
       "    </tr>\n",
       "    <tr>\n",
       "      <th>4</th>\n",
       "      <td>10544</td>\n",
       "      <td>588</td>\n",
       "      <td>2694323</td>\n",
       "      <td>4582.181973</td>\n",
       "      <td>0.673017</td>\n",
       "      <td>1.889013e+08</td>\n",
       "      <td>2.806781e+08</td>\n",
       "      <td>58578.291575</td>\n",
       "      <td>0.004643</td>\n",
       "      <td>0.018100</td>\n",
       "      <td>...</td>\n",
       "      <td>392.344821</td>\n",
       "      <td>1529.540788</td>\n",
       "      <td>0.500000</td>\n",
       "      <td>1.949230</td>\n",
       "      <td>4.390339e+06</td>\n",
       "      <td>1.711556e+07</td>\n",
       "      <td>0.029131</td>\n",
       "      <td>0.017859</td>\n",
       "      <td>0.013542</td>\n",
       "      <td>3.909259</td>\n",
       "    </tr>\n",
       "  </tbody>\n",
       "</table>\n",
       "<p>5 rows × 40 columns</p>\n",
       "</div>"
      ],
      "text/plain": [
       "   AdrActCnt  BlkCnt  BlkSizeByte  BlkSizeMeanByte  CapMVRVCur  CapMrktCurUSD  \\\n",
       "0       7301     638      1962084      3075.366771    0.657791   1.844730e+08   \n",
       "1      10630     576      2417247      4196.609375    0.647167   1.814419e+08   \n",
       "2      15468     561      2550985      4547.210339    0.671392   1.882939e+08   \n",
       "3      13481     605      2800901      4629.588430    0.667102   1.871896e+08   \n",
       "4      10544     588      2694323      4582.181973    0.673017   1.889013e+08   \n",
       "\n",
       "     CapRealUSD      DiffMean  FeeMeanNtv  FeeMeanUSD  ...  TxTfrValMeanNtv  \\\n",
       "0  2.804431e+08  53827.569370    0.006044    0.023037  ...       147.744617   \n",
       "1  2.803635e+08  53827.569370    0.007412    0.027780  ...       233.870536   \n",
       "2  2.804530e+08  57164.083717    0.004974    0.019340  ...       339.766758   \n",
       "3  2.806010e+08  58578.291575    0.006038    0.023331  ...       234.939070   \n",
       "4  2.806781e+08  58578.291575    0.004643    0.018100  ...       392.344821   \n",
       "\n",
       "   TxTfrValMeanUSD  TxTfrValMedNtv  TxTfrValMedUSD   TxTfrValNtv  \\\n",
       "0       563.151417        0.616035        2.348112  1.310052e+06   \n",
       "1       876.525329        0.159891        0.599259  2.545915e+06   \n",
       "2      1321.121208        0.013982        0.054368  6.012513e+06   \n",
       "3       907.877015        0.028395        0.109729  3.063840e+06   \n",
       "4      1529.540788        0.500000        1.949230  4.390339e+06   \n",
       "\n",
       "    TxTfrValUSD  VtyDayRet180d  VtyDayRet30d  VtyDayRet60d     Label  \n",
       "0  4.993464e+06       0.029249      0.016593      0.012424  3.747908  \n",
       "1  9.541855e+06       0.029240      0.016358      0.012601  3.888318  \n",
       "2  2.337856e+07       0.029359      0.017770      0.013482  3.864308  \n",
       "3  1.183962e+07       0.029357      0.017801      0.013501  3.898460  \n",
       "4  1.711556e+07       0.029131      0.017859      0.013542  3.909259  \n",
       "\n",
       "[5 rows x 40 columns]"
      ]
     },
     "execution_count": 9,
     "metadata": {},
     "output_type": "execute_result"
    }
   ],
   "source": [
    "ltc_3yr_df.head()"
   ]
  },
  {
   "cell_type": "code",
   "execution_count": 10,
   "metadata": {},
   "outputs": [],
   "source": [
    "Y_df = pd.DataFrame(ltc_3yr_df['Label'])\n",
    "X_df = pd.DataFrame(ltc_3yr_df.drop(labels='Label', axis=1))"
   ]
  },
  {
   "cell_type": "code",
   "execution_count": 14,
   "metadata": {},
   "outputs": [],
   "source": [
    "def get_test_loss(pred, test):\n",
    "    test_loss = 0\n",
    "    test.index = np.arange(len(pred))\n",
    "    for i in range(len(pred)):\n",
    "        test_loss += np.absolute(pred[0][i] - test['Label'][i])\n",
    "    test_loss = test_loss/len(pred)\n",
    "    print('Test loss is {}.'.format(test_loss))"
   ]
  },
  {
   "cell_type": "markdown",
   "metadata": {},
   "source": [
    "# Hyperameter tuner with 110 day validation and test sets"
   ]
  },
  {
   "cell_type": "code",
   "execution_count": 16,
   "metadata": {},
   "outputs": [],
   "source": [
    "X_train, X_test, Y_train, Y_test = sklearn.model_selection.train_test_split(X_df, Y_df, test_size=0.1, shuffle=False)\n",
    "X_train, X_val, Y_train, Y_val = sklearn.model_selection.train_test_split(X_train, Y_train, test_size=0.111, shuffle=False)"
   ]
  },
  {
   "cell_type": "code",
   "execution_count": 17,
   "metadata": {},
   "outputs": [
    {
     "data": {
      "text/plain": [
       "110"
      ]
     },
     "execution_count": 17,
     "metadata": {},
     "output_type": "execute_result"
    }
   ],
   "source": [
    "len(Y_val)"
   ]
  },
  {
   "cell_type": "code",
   "execution_count": 18,
   "metadata": {},
   "outputs": [
    {
     "name": "stdout",
     "output_type": "stream",
     "text": [
      "Tests Passed!\n"
     ]
    }
   ],
   "source": [
    "assert len(X_train) == len(Y_train), \\\n",
    "    'Train lengths aren\\'t equal'\n",
    "assert len(X_test) == len(Y_test), \\\n",
    "    'Test lengths aren\\'t equal'\n",
    "assert X_test['PriceUSD'][999] == Y_test['Label'][998], \\\n",
    "    'Test values aren\\'t matching'\n",
    "assert X_train['PriceUSD'][22] == Y_train['Label'][21], \\\n",
    "    'Train values aren\\'t matching'\n",
    "\n",
    "print('Tests Passed!')    "
   ]
  },
  {
   "cell_type": "code",
   "execution_count": 19,
   "metadata": {},
   "outputs": [],
   "source": [
    "data_dir = 'Data/ltc_3yr_hypertuner'\n",
    "if not os.path.exists(data_dir):\n",
    "    os.makedirs(data_dir)"
   ]
  },
  {
   "cell_type": "code",
   "execution_count": 20,
   "metadata": {},
   "outputs": [],
   "source": [
    "X_test.to_csv(os.path.join(data_dir, 'test.csv'), header=False, index=False)\n",
    "\n",
    "pd.concat([Y_val, X_val], axis=1).to_csv(os.path.join(data_dir, 'validation.csv'), header=False, index=False)\n",
    "pd.concat([Y_train, X_train], axis=1).to_csv(os.path.join(data_dir, 'train.csv'), header=False, index=False)"
   ]
  },
  {
   "cell_type": "code",
   "execution_count": 21,
   "metadata": {},
   "outputs": [],
   "source": [
    "prefix = 'ltc-xgboost-tuning'\n",
    "\n",
    "test_location = sagemaker_session.upload_data(os.path.join(data_dir, 'test.csv'), key_prefix=prefix)\n",
    "val_location = sagemaker_session.upload_data(os.path.join(data_dir, 'validation.csv'), key_prefix=prefix)\n",
    "train_location = sagemaker_session.upload_data(os.path.join(data_dir, 'train.csv'), key_prefix=prefix)"
   ]
  },
  {
   "cell_type": "code",
   "execution_count": 22,
   "metadata": {},
   "outputs": [],
   "source": [
    "container = get_image_uri(sagemaker_session.boto_region_name, 'xgboost', '0.90-1')\n",
    "\n",
    "# Now that we know which container to use, we can construct the estimator object.\n",
    "xgb = sagemaker.estimator.Estimator(container, # The image name of the training container\n",
    "                                    role,      # The IAM role to use (our current role in this case)\n",
    "                                    train_instance_count=1, # The number of instances to use for training\n",
    "                                    train_instance_type='ml.m4.xlarge', # The type of instance to use for training\n",
    "                                    output_path='s3://{}/{}/output'.format(bucket, prefix),\n",
    "                                                                        # Where to save the output (the model artifacts)\n",
    "                                    sagemaker_session=sagemaker_session) # The current SageMaker session"
   ]
  },
  {
   "cell_type": "code",
   "execution_count": 23,
   "metadata": {},
   "outputs": [],
   "source": [
    "xgb.set_hyperparameters(max_depth=5,\n",
    "                        eta=0.2,\n",
    "                        gamma=4,\n",
    "                        min_child_weight=6,\n",
    "                        subsample=0.8,\n",
    "                        objective='reg:squarederror',\n",
    "                        early_stopping_rounds=10,\n",
    "                        num_round=200)"
   ]
  },
  {
   "cell_type": "code",
   "execution_count": 24,
   "metadata": {},
   "outputs": [],
   "source": [
    "xgb_hyperparameter_tuner = HyperparameterTuner(estimator = xgb, # The estimator object to use as the basis for the training jobs.\n",
    "                                               objective_metric_name = 'validation:rmse', # The metric used to compare trained models.\n",
    "                                               objective_type = 'Minimize', # Whether we wish to minimize or maximize the metric.\n",
    "                                               max_jobs = 20, # The total number of models to train\n",
    "                                               max_parallel_jobs = 3, # The number of models to train in parallel\n",
    "                                               hyperparameter_ranges = {\n",
    "                                                    'max_depth': IntegerParameter(3, 12),\n",
    "                                                    'eta'      : ContinuousParameter(0.05, 0.5),\n",
    "                                                    'min_child_weight': IntegerParameter(2, 8),\n",
    "                                                    'subsample': ContinuousParameter(0.5, 0.9),\n",
    "                                                    'gamma': ContinuousParameter(0, 10),\n",
    "                                               })"
   ]
  },
  {
   "cell_type": "code",
   "execution_count": 25,
   "metadata": {},
   "outputs": [],
   "source": [
    "# This is a wrapper around the location of our train and validation data, to make sure that SageMaker\n",
    "# knows our data is in csv format.\n",
    "s3_input_train = sagemaker.s3_input(s3_data=train_location, content_type='csv')\n",
    "s3_input_validation = sagemaker.s3_input(s3_data=val_location, content_type='csv')\n",
    "\n",
    "xgb_hyperparameter_tuner.fit({'train': s3_input_train, 'validation': s3_input_validation})"
   ]
  },
  {
   "cell_type": "code",
   "execution_count": 26,
   "metadata": {},
   "outputs": [
    {
     "name": "stdout",
     "output_type": "stream",
     "text": [
      "...............................................................................................................................................................................................................................................................................................................!\n"
     ]
    }
   ],
   "source": [
    "xgb_hyperparameter_tuner.wait()"
   ]
  },
  {
   "cell_type": "code",
   "execution_count": 27,
   "metadata": {},
   "outputs": [
    {
     "data": {
      "text/plain": [
       "'sagemaker-xgboost-191224-1427-010-8bc0568a'"
      ]
     },
     "execution_count": 27,
     "metadata": {},
     "output_type": "execute_result"
    }
   ],
   "source": [
    "xgb_hyperparameter_tuner.best_training_job()"
   ]
  },
  {
   "cell_type": "code",
   "execution_count": 28,
   "metadata": {},
   "outputs": [
    {
     "name": "stdout",
     "output_type": "stream",
     "text": [
      "2019-12-24 14:42:01 Starting - Preparing the instances for training\n",
      "2019-12-24 14:42:01 Downloading - Downloading input data\n",
      "2019-12-24 14:42:01 Training - Training image download completed. Training in progress.\n",
      "2019-12-24 14:42:01 Uploading - Uploading generated training model\n",
      "2019-12-24 14:42:01 Completed - Training job completed\u001b[34mINFO:sagemaker-containers:Imported framework sagemaker_xgboost_container.training\u001b[0m\n",
      "\u001b[34mINFO:sagemaker-containers:Failed to parse hyperparameter _tuning_objective_metric value validation:rmse to Json.\u001b[0m\n",
      "\u001b[34mReturning the value itself\u001b[0m\n",
      "\u001b[34mINFO:sagemaker-containers:Failed to parse hyperparameter objective value reg:squarederror to Json.\u001b[0m\n",
      "\u001b[34mReturning the value itself\u001b[0m\n",
      "\u001b[34mINFO:sagemaker-containers:No GPUs detected (normal if no gpus installed)\u001b[0m\n",
      "\u001b[34mINFO:sagemaker_xgboost_container.training:Running XGBoost Sagemaker in algorithm mode\u001b[0m\n",
      "\u001b[34mINFO:root:Determined delimiter of CSV input is ','\u001b[0m\n",
      "\u001b[34mINFO:root:Determined delimiter of CSV input is ','\u001b[0m\n",
      "\u001b[34mINFO:root:Determined delimiter of CSV input is ','\u001b[0m\n",
      "\u001b[34m[14:41:37] 876x39 matrix with 34164 entries loaded from /opt/ml/input/data/train?format=csv&label_column=0&delimiter=,\u001b[0m\n",
      "\u001b[34mINFO:root:Determined delimiter of CSV input is ','\u001b[0m\n",
      "\u001b[34m[14:41:37] 110x39 matrix with 4290 entries loaded from /opt/ml/input/data/validation?format=csv&label_column=0&delimiter=,\u001b[0m\n",
      "\u001b[34mINFO:root:Single node training.\u001b[0m\n",
      "\u001b[34mINFO:root:Setting up HPO optimized metric to be : rmse\u001b[0m\n",
      "\u001b[34mINFO:root:Train matrix has 876 rows\u001b[0m\n",
      "\u001b[34mINFO:root:Validation matrix has 110 rows\u001b[0m\n",
      "\u001b[34m[0]#011train-rmse:74.617#011validation-rmse:77.5051\u001b[0m\n",
      "\u001b[34m[1]#011train-rmse:58.2348#011validation-rmse:58.1113\u001b[0m\n",
      "\u001b[34m[2]#011train-rmse:45.5735#011validation-rmse:43.9006\u001b[0m\n",
      "\u001b[34m[3]#011train-rmse:35.6491#011validation-rmse:33.4721\u001b[0m\n",
      "\u001b[34m[4]#011train-rmse:28.0517#011validation-rmse:25.275\u001b[0m\n",
      "\u001b[34m[5]#011train-rmse:22.194#011validation-rmse:18.1117\u001b[0m\n",
      "\u001b[34m[6]#011train-rmse:17.8211#011validation-rmse:13.585\u001b[0m\n",
      "\u001b[34m[7]#011train-rmse:14.3432#011validation-rmse:10.9149\u001b[0m\n",
      "\u001b[34m[8]#011train-rmse:11.7425#011validation-rmse:8.40076\u001b[0m\n",
      "\u001b[34m[9]#011train-rmse:9.71944#011validation-rmse:7.52244\u001b[0m\n",
      "\u001b[34m[10]#011train-rmse:8.06149#011validation-rmse:7.08279\u001b[0m\n",
      "\u001b[34m[11]#011train-rmse:6.87996#011validation-rmse:6.94004\u001b[0m\n",
      "\u001b[34m[12]#011train-rmse:5.79833#011validation-rmse:6.98122\u001b[0m\n",
      "\u001b[34m[13]#011train-rmse:5.03078#011validation-rmse:6.87984\u001b[0m\n",
      "\u001b[34m[14]#011train-rmse:4.35518#011validation-rmse:7.04807\u001b[0m\n",
      "\u001b[34m[15]#011train-rmse:3.82309#011validation-rmse:7.13665\u001b[0m\n",
      "\u001b[34m[16]#011train-rmse:3.4652#011validation-rmse:7.40914\u001b[0m\n",
      "\u001b[34m[17]#011train-rmse:3.1134#011validation-rmse:7.37445\u001b[0m\n",
      "\u001b[34m[18]#011train-rmse:2.83692#011validation-rmse:7.56127\u001b[0m\n",
      "\u001b[34m[19]#011train-rmse:2.59313#011validation-rmse:7.63416\u001b[0m\n",
      "\u001b[34m[20]#011train-rmse:2.41512#011validation-rmse:7.66367\u001b[0m\n",
      "\u001b[34m[21]#011train-rmse:2.30273#011validation-rmse:7.79411\u001b[0m\n",
      "\u001b[34m[22]#011train-rmse:2.18#011validation-rmse:7.88964\u001b[0m\n",
      "\u001b[34m[23]#011train-rmse:2.07697#011validation-rmse:7.91266\u001b[0m\n",
      "Training seconds: 72\n",
      "Billable seconds: 72\n"
     ]
    }
   ],
   "source": [
    "xgb_attached = sagemaker.estimator.Estimator.attach(xgb_hyperparameter_tuner.best_training_job())"
   ]
  },
  {
   "cell_type": "code",
   "execution_count": 29,
   "metadata": {},
   "outputs": [],
   "source": [
    "xgb_transformer = xgb_attached.transformer(instance_count = 1, instance_type = 'ml.m4.xlarge')"
   ]
  },
  {
   "cell_type": "code",
   "execution_count": 30,
   "metadata": {},
   "outputs": [],
   "source": [
    "xgb_transformer.transform(test_location, content_type='text/csv', split_type='Line')"
   ]
  },
  {
   "cell_type": "code",
   "execution_count": 31,
   "metadata": {},
   "outputs": [
    {
     "name": "stdout",
     "output_type": "stream",
     "text": [
      ".....................\u001b[34m[2019-12-24 15:07:51 +0000] [15] [INFO] Starting gunicorn 19.10.0\u001b[0m\n",
      "\u001b[34m[2019-12-24 15:07:51 +0000] [15] [INFO] Listening at: unix:/tmp/gunicorn.sock (15)\u001b[0m\n",
      "\u001b[34m[2019-12-24 15:07:51 +0000] [15] [INFO] Using worker: gevent\u001b[0m\n",
      "\u001b[34m[2019-12-24 15:07:51 +0000] [22] [INFO] Booting worker with pid: 22\u001b[0m\n",
      "\u001b[34m[2019-12-24 15:07:51 +0000] [26] [INFO] Booting worker with pid: 26\u001b[0m\n",
      "\u001b[34m[2019-12-24 15:07:51 +0000] [27] [INFO] Booting worker with pid: 27\u001b[0m\n",
      "\u001b[34m[2019-12-24 15:07:51 +0000] [28] [INFO] Booting worker with pid: 28\u001b[0m\n",
      "\u001b[34m[2019-12-24:15:08:28:INFO] No GPUs detected (normal if no gpus installed)\u001b[0m\n",
      "\u001b[34m169.254.255.130 - - [24/Dec/2019:15:08:28 +0000] \"GET /ping HTTP/1.1\" 200 0 \"-\" \"Go-http-client/1.1\"\u001b[0m\n",
      "\u001b[34m[2019-12-24:15:08:28:INFO] No GPUs detected (normal if no gpus installed)\u001b[0m\n",
      "\u001b[34m169.254.255.130 - - [24/Dec/2019:15:08:28 +0000] \"GET /execution-parameters HTTP/1.1\" 200 84 \"-\" \"Go-http-client/1.1\"\u001b[0m\n",
      "\u001b[34m[2019-12-24:15:08:28:INFO] No GPUs detected (normal if no gpus installed)\u001b[0m\n",
      "\u001b[34m[2019-12-24:15:08:28:INFO] Determined delimiter of CSV input is ','\u001b[0m\n",
      "\u001b[34m169.254.255.130 - - [24/Dec/2019:15:08:28 +0000] \"POST /invocations HTTP/1.1\" 200 1982 \"-\" \"Go-http-client/1.1\"\u001b[0m\n",
      "\u001b[35m[2019-12-24:15:08:28:INFO] No GPUs detected (normal if no gpus installed)\u001b[0m\n",
      "\u001b[35m169.254.255.130 - - [24/Dec/2019:15:08:28 +0000] \"GET /ping HTTP/1.1\" 200 0 \"-\" \"Go-http-client/1.1\"\u001b[0m\n",
      "\u001b[35m[2019-12-24:15:08:28:INFO] No GPUs detected (normal if no gpus installed)\u001b[0m\n",
      "\u001b[35m169.254.255.130 - - [24/Dec/2019:15:08:28 +0000] \"GET /execution-parameters HTTP/1.1\" 200 84 \"-\" \"Go-http-client/1.1\"\u001b[0m\n",
      "\u001b[35m[2019-12-24:15:08:28:INFO] No GPUs detected (normal if no gpus installed)\u001b[0m\n",
      "\u001b[35m[2019-12-24:15:08:28:INFO] Determined delimiter of CSV input is ','\u001b[0m\n",
      "\u001b[35m169.254.255.130 - - [24/Dec/2019:15:08:28 +0000] \"POST /invocations HTTP/1.1\" 200 1982 \"-\" \"Go-http-client/1.1\"\u001b[0m\n",
      "\u001b[32m2019-12-24T15:08:28.795:[sagemaker logs]: MaxConcurrentTransforms=4, MaxPayloadInMB=6, BatchStrategy=MULTI_RECORD\u001b[0m\n",
      "\n"
     ]
    }
   ],
   "source": [
    "xgb_transformer.wait()"
   ]
  },
  {
   "cell_type": "code",
   "execution_count": 32,
   "metadata": {},
   "outputs": [
    {
     "name": "stdout",
     "output_type": "stream",
     "text": [
      "Completed 1.9 KiB/1.9 KiB (27.7 KiB/s) with 1 file(s) remaining\r",
      "download: s3://sagemaker-us-east-1-561941966718/sagemaker-xgboost-191224-1427-010-8bc05-2019-12-24-15-04-26-706/test.csv.out to Data/ltc_3yr_hypertuner/test.csv.out\r\n"
     ]
    }
   ],
   "source": [
    "!aws s3 cp --recursive $xgb_transformer.output_path $data_dir"
   ]
  },
  {
   "cell_type": "code",
   "execution_count": 33,
   "metadata": {},
   "outputs": [],
   "source": [
    "Y_pred = pd.read_csv(os.path.join(data_dir, 'test.csv.out'), header=None)"
   ]
  },
  {
   "cell_type": "code",
   "execution_count": 34,
   "metadata": {},
   "outputs": [
    {
     "data": {
      "image/png": "[encoded data removed]",
      "text/plain": [
       "<Figure size 864x432 with 1 Axes>"
      ]
     },
     "metadata": {},
     "output_type": "display_data"
    }
   ],
   "source": [
    "plt.figure(figsize=(12,6))\n",
    "plt.plot(range(len(Y_pred)), Y_pred, label='predicted')\n",
    "plt.plot(range(len(Y_pred)), Y_test, color='r', label='actual')\n",
    "plt.legend()\n",
    "plt.show()"
   ]
  },
  {
   "cell_type": "code",
   "execution_count": 35,
   "metadata": {},
   "outputs": [],
   "source": [
    "def get_test_loss(pred, test):\n",
    "    test_loss = 0\n",
    "    test.index = np.arange(len(pred))\n",
    "    for i in range(len(pred)):\n",
    "        test_loss += np.absolute(pred[0][i] - test['Label'][i])\n",
    "    test_loss = test_loss/len(pred)\n",
    "    print('Test loss is {}.'.format(test_loss))"
   ]
  },
  {
   "cell_type": "code",
   "execution_count": 36,
   "metadata": {},
   "outputs": [
    {
     "name": "stdout",
     "output_type": "stream",
     "text": [
      "Test loss is 4.611637919752981.\n"
     ]
    }
   ],
   "source": [
    "get_test_loss(Y_pred, Y_test)"
   ]
  },
  {
   "cell_type": "code",
   "execution_count": 37,
   "metadata": {},
   "outputs": [],
   "source": [
    "def roi_display(initial_investment, predictions, actual, transaction_rate=0, buy_threshold=0,\\\n",
    "    sell_threshold=0):\n",
    "    \"\"\"Returns total return on investment through the following inputs:\n",
    "    - initial_investment: initial dollar amount to be invested\n",
    "    - predictions: numpy array of EOD stock price predictions from xgboost model\n",
    "    - actual: numpy array of actual end of day stock prices\n",
    "    - transaction_rate: rate to be charged each time transaction is made\n",
    "    - buy_threshold: prediction percentage of growth before executing buying\n",
    "        transaction\n",
    "    - sell_threshold: prediction percentage of loss before executing selling\n",
    "        transaction\n",
    "    \"\"\"\n",
    "\n",
    "    investing = 0\n",
    "    holding = initial_investment\n",
    "    predictions = predictions[0]\n",
    "    actual = actual['Label']\n",
    "    actual.index = np.arange(len(predictions))\n",
    "    \n",
    "    for i in range(len(predictions)-1):\n",
    "        if holding > 0:\n",
    "            if predictions[i+1]*(1-buy_threshold) > predictions[i]:\n",
    "                investing = (holding*(1-transaction_rate)) / actual[i]\n",
    "                print('Investing ${:.2f}'.format(holding - initial_investment))\n",
    "                holding = 0         \n",
    "        if investing > 0:\n",
    "            if predictions[i+1]*(1+sell_threshold) < predictions[i]:\n",
    "                holding = (investing * actual[i])*(1-transaction_rate)\n",
    "                investing = 0\n",
    "                print('Holding ${:.2f}'.format(holding - initial_investment))\n",
    "\n",
    "    if holding > 0:\n",
    "        print('Total return on investment before taxes is ${:.2f}'.format(\\\n",
    "        holding - initial_investment))\n",
    "    else:\n",
    "        print('Total return on investment before taxes is ${:.2f}'.format(\\\n",
    "            investing * actual[361] - initial_investment))"
   ]
  },
  {
   "cell_type": "code",
   "execution_count": 38,
   "metadata": {},
   "outputs": [
    {
     "name": "stdout",
     "output_type": "stream",
     "text": [
      "Investing $0.00\n",
      "Holding $1858.57\n",
      "Investing $1858.57\n",
      "Holding $854.57\n",
      "Investing $854.57\n",
      "Holding $1021.31\n",
      "Investing $1021.31\n",
      "Holding $395.66\n",
      "Investing $395.66\n",
      "Holding $335.14\n",
      "Investing $335.14\n",
      "Holding $55.06\n",
      "Investing $55.06\n",
      "Holding $877.87\n",
      "Investing $877.87\n",
      "Holding $235.88\n",
      "Investing $235.88\n",
      "Holding $771.85\n",
      "Investing $771.85\n",
      "Holding $494.65\n",
      "Investing $494.65\n",
      "Holding $971.98\n",
      "Investing $971.98\n",
      "Holding $3311.74\n",
      "Investing $3311.74\n",
      "Holding $2735.02\n",
      "Investing $2735.02\n",
      "Holding $903.41\n",
      "Investing $903.41\n",
      "Holding $143.96\n",
      "Investing $143.96\n",
      "Holding $-524.99\n",
      "Investing $-524.99\n",
      "Holding $-581.16\n",
      "Investing $-581.16\n",
      "Holding $-523.96\n",
      "Investing $-523.96\n",
      "Holding $-1230.15\n",
      "Investing $-1230.15\n",
      "Holding $-1456.78\n",
      "Investing $-1456.78\n",
      "Holding $-2044.61\n",
      "Investing $-2044.61\n",
      "Holding $-2454.36\n",
      "Investing $-2454.36\n",
      "Holding $-2981.63\n",
      "Investing $-2981.63\n",
      "Holding $-2627.43\n",
      "Investing $-2627.43\n",
      "Holding $-3083.58\n",
      "Investing $-3083.58\n",
      "Holding $-177.63\n",
      "Investing $-177.63\n",
      "Holding $-793.79\n",
      "Investing $-793.79\n",
      "Holding $-751.81\n",
      "Investing $-751.81\n",
      "Holding $-1061.40\n",
      "Investing $-1061.40\n",
      "Holding $-1204.61\n",
      "Total return on investment before taxes is $-1204.61\n"
     ]
    }
   ],
   "source": [
    "roi_display(20000, Y_pred, Y_test)"
   ]
  },
  {
   "cell_type": "markdown",
   "metadata": {},
   "source": [
    "# Hyperparameter Tuning with 30 day validation set"
   ]
  },
  {
   "cell_type": "code",
   "execution_count": 49,
   "metadata": {},
   "outputs": [],
   "source": [
    "X_train, X_test, Y_train, Y_test = sklearn.model_selection.train_test_split(X_df, Y_df, test_size=0.1, shuffle=False)\n",
    "X_train, X_val, Y_train, Y_val = sklearn.model_selection.train_test_split(X_train, Y_train, test_size=0.03, shuffle=False)"
   ]
  },
  {
   "cell_type": "code",
   "execution_count": 53,
   "metadata": {},
   "outputs": [
    {
     "data": {
      "text/plain": [
       "30"
      ]
     },
     "execution_count": 53,
     "metadata": {},
     "output_type": "execute_result"
    }
   ],
   "source": [
    "len(Y_val)"
   ]
  },
  {
   "cell_type": "code",
   "execution_count": 54,
   "metadata": {},
   "outputs": [
    {
     "name": "stdout",
     "output_type": "stream",
     "text": [
      "Tests Passed!\n"
     ]
    }
   ],
   "source": [
    "assert len(X_train) == len(Y_train), \\\n",
    "    'Train lengths aren\\'t equal'\n",
    "assert len(X_test) == len(Y_test), \\\n",
    "    'Test lengths aren\\'t equal'\n",
    "assert X_test['PriceUSD'][999] == Y_test['Label'][998], \\\n",
    "    'Test values aren\\'t matching'\n",
    "assert X_train['PriceUSD'][22] == Y_train['Label'][21], \\\n",
    "    'Train values aren\\'t matching'\n",
    "\n",
    "print('Tests Passed!')    "
   ]
  },
  {
   "cell_type": "code",
   "execution_count": 55,
   "metadata": {},
   "outputs": [],
   "source": [
    "data_dir = 'Data/ltc_3yr_hypertuner_30d_val'\n",
    "if not os.path.exists(data_dir):\n",
    "    os.makedirs(data_dir)"
   ]
  },
  {
   "cell_type": "code",
   "execution_count": 56,
   "metadata": {},
   "outputs": [],
   "source": [
    "X_test.to_csv(os.path.join(data_dir, 'test.csv'), header=False, index=False)\n",
    "\n",
    "pd.concat([Y_val, X_val], axis=1).to_csv(os.path.join(data_dir, 'validation.csv'), header=False, index=False)\n",
    "pd.concat([Y_train, X_train], axis=1).to_csv(os.path.join(data_dir, 'train.csv'), header=False, index=False)"
   ]
  },
  {
   "cell_type": "code",
   "execution_count": 57,
   "metadata": {},
   "outputs": [],
   "source": [
    "prefix = 'ltc-xgboost-tuning'\n",
    "\n",
    "test_location = sagemaker_session.upload_data(os.path.join(data_dir, 'test.csv'), key_prefix=prefix)\n",
    "val_location = sagemaker_session.upload_data(os.path.join(data_dir, 'validation.csv'), key_prefix=prefix)\n",
    "train_location = sagemaker_session.upload_data(os.path.join(data_dir, 'train.csv'), key_prefix=prefix)"
   ]
  },
  {
   "cell_type": "code",
   "execution_count": 58,
   "metadata": {},
   "outputs": [],
   "source": [
    "container = get_image_uri(sagemaker_session.boto_region_name, 'xgboost', '0.90-1')\n",
    "\n",
    "# Now that we know which container to use, we can construct the estimator object.\n",
    "xgb = sagemaker.estimator.Estimator(container, # The image name of the training container\n",
    "                                    role,      # The IAM role to use (our current role in this case)\n",
    "                                    train_instance_count=1, # The number of instances to use for training\n",
    "                                    train_instance_type='ml.m4.xlarge', # The type of instance to use for training\n",
    "                                    output_path='s3://{}/{}/output'.format(bucket, prefix),\n",
    "                                                                        # Where to save the output (the model artifacts)\n",
    "                                    sagemaker_session=sagemaker_session) # The current SageMaker session"
   ]
  },
  {
   "cell_type": "code",
   "execution_count": 59,
   "metadata": {},
   "outputs": [],
   "source": [
    "xgb.set_hyperparameters(max_depth=5,\n",
    "                        eta=0.2,\n",
    "                        gamma=4,\n",
    "                        min_child_weight=6,\n",
    "                        subsample=0.8,\n",
    "                        objective='reg:squarederror',\n",
    "                        early_stopping_rounds=10,\n",
    "                        num_round=200)"
   ]
  },
  {
   "cell_type": "code",
   "execution_count": 60,
   "metadata": {},
   "outputs": [],
   "source": [
    "xgb_hyperparameter_tuner = HyperparameterTuner(estimator = xgb, # The estimator object to use as the basis for the training jobs.\n",
    "                                               objective_metric_name = 'validation:rmse', # The metric used to compare trained models.\n",
    "                                               objective_type = 'Minimize', # Whether we wish to minimize or maximize the metric.\n",
    "                                               max_jobs = 20, # The total number of models to train\n",
    "                                               max_parallel_jobs = 3, # The number of models to train in parallel\n",
    "                                               hyperparameter_ranges = {\n",
    "                                                    'max_depth': IntegerParameter(3, 12),\n",
    "                                                    'eta'      : ContinuousParameter(0.05, 0.5),\n",
    "                                                    'min_child_weight': IntegerParameter(2, 8),\n",
    "                                                    'subsample': ContinuousParameter(0.5, 0.9),\n",
    "                                                    'gamma': ContinuousParameter(0, 10),\n",
    "                                               })"
   ]
  },
  {
   "cell_type": "code",
   "execution_count": 61,
   "metadata": {},
   "outputs": [],
   "source": [
    "# This is a wrapper around the location of our train and validation data, to make sure that SageMaker\n",
    "# knows our data is in csv format.\n",
    "s3_input_train = sagemaker.s3_input(s3_data=train_location, content_type='csv')\n",
    "s3_input_validation = sagemaker.s3_input(s3_data=val_location, content_type='csv')\n",
    "\n",
    "xgb_hyperparameter_tuner.fit({'train': s3_input_train, 'validation': s3_input_validation})"
   ]
  },
  {
   "cell_type": "code",
   "execution_count": 62,
   "metadata": {},
   "outputs": [
    {
     "name": "stdout",
     "output_type": "stream",
     "text": [
      ".........................................................................................................................................................................................................................................................................................................!\n"
     ]
    }
   ],
   "source": [
    "xgb_hyperparameter_tuner.wait()"
   ]
  },
  {
   "cell_type": "code",
   "execution_count": 63,
   "metadata": {},
   "outputs": [
    {
     "data": {
      "text/plain": [
       "'sagemaker-xgboost-191224-1518-019-9fd2d3b5'"
      ]
     },
     "execution_count": 63,
     "metadata": {},
     "output_type": "execute_result"
    }
   ],
   "source": [
    "xgb_hyperparameter_tuner.best_training_job()"
   ]
  },
  {
   "cell_type": "code",
   "execution_count": 64,
   "metadata": {},
   "outputs": [
    {
     "name": "stdout",
     "output_type": "stream",
     "text": [
      "2019-12-24 15:43:20 Starting - Preparing the instances for training\n",
      "2019-12-24 15:43:20 Downloading - Downloading input data\n",
      "2019-12-24 15:43:20 Training - Training image download completed. Training in progress.\n",
      "2019-12-24 15:43:20 Uploading - Uploading generated training model\n",
      "2019-12-24 15:43:20 Completed - Training job completed\u001b[34mINFO:sagemaker-containers:Imported framework sagemaker_xgboost_container.training\u001b[0m\n",
      "\u001b[34mINFO:sagemaker-containers:Failed to parse hyperparameter _tuning_objective_metric value validation:rmse to Json.\u001b[0m\n",
      "\u001b[34mReturning the value itself\u001b[0m\n",
      "\u001b[34mINFO:sagemaker-containers:Failed to parse hyperparameter objective value reg:squarederror to Json.\u001b[0m\n",
      "\u001b[34mReturning the value itself\u001b[0m\n",
      "\u001b[34mINFO:sagemaker-containers:No GPUs detected (normal if no gpus installed)\u001b[0m\n",
      "\u001b[34mINFO:sagemaker_xgboost_container.training:Running XGBoost Sagemaker in algorithm mode\u001b[0m\n",
      "\u001b[34mINFO:root:Determined delimiter of CSV input is ','\u001b[0m\n",
      "\u001b[34mINFO:root:Determined delimiter of CSV input is ','\u001b[0m\n",
      "\u001b[34mINFO:root:Determined delimiter of CSV input is ','\u001b[0m\n",
      "\u001b[34m[15:43:10] 956x39 matrix with 37284 entries loaded from /opt/ml/input/data/train?format=csv&label_column=0&delimiter=,\u001b[0m\n",
      "\u001b[34mINFO:root:Determined delimiter of CSV input is ','\u001b[0m\n",
      "\u001b[34m[15:43:10] 30x39 matrix with 1170 entries loaded from /opt/ml/input/data/validation?format=csv&label_column=0&delimiter=,\u001b[0m\n",
      "\u001b[34mINFO:root:Single node training.\u001b[0m\n",
      "\u001b[34mINFO:root:Setting up HPO optimized metric to be : rmse\u001b[0m\n",
      "\u001b[34mINFO:root:Train matrix has 956 rows\u001b[0m\n",
      "\u001b[34mINFO:root:Validation matrix has 30 rows\u001b[0m\n",
      "\u001b[34m[0]#011train-rmse:90.216#011validation-rmse:101.875\u001b[0m\n",
      "\u001b[34m[1]#011train-rmse:84.9055#011validation-rmse:95.5369\u001b[0m\n",
      "\u001b[34m[2]#011train-rmse:79.8551#011validation-rmse:89.5821\u001b[0m\n",
      "\u001b[34m[3]#011train-rmse:75.1205#011validation-rmse:83.8567\u001b[0m\n",
      "\u001b[34m[4]#011train-rmse:70.742#011validation-rmse:78.7504\u001b[0m\n",
      "\u001b[34m[5]#011train-rmse:66.6191#011validation-rmse:73.2586\u001b[0m\n",
      "\u001b[34m[6]#011train-rmse:62.7146#011validation-rmse:68.7782\u001b[0m\n",
      "\u001b[34m[7]#011train-rmse:58.9422#011validation-rmse:64.1839\u001b[0m\n",
      "\u001b[34m[8]#011train-rmse:55.4303#011validation-rmse:60.2478\u001b[0m\n",
      "\u001b[34m[9]#011train-rmse:52.1514#011validation-rmse:56.4772\u001b[0m\n",
      "\u001b[34m[10]#011train-rmse:49.1089#011validation-rmse:52.9491\u001b[0m\n",
      "\u001b[34m[11]#011train-rmse:46.2322#011validation-rmse:49.3579\u001b[0m\n",
      "\u001b[34m[12]#011train-rmse:43.5827#011validation-rmse:46.3343\u001b[0m\n",
      "\u001b[34m[13]#011train-rmse:41.0496#011validation-rmse:43.4129\u001b[0m\n",
      "\u001b[34m[14]#011train-rmse:38.6886#011validation-rmse:40.7226\u001b[0m\n",
      "\u001b[34m[15]#011train-rmse:36.4429#011validation-rmse:38.1574\u001b[0m\n",
      "\u001b[34m[16]#011train-rmse:34.3143#011validation-rmse:35.692\u001b[0m\n",
      "\u001b[34m[17]#011train-rmse:32.3081#011validation-rmse:33.4715\u001b[0m\n",
      "\u001b[34m[18]#011train-rmse:30.4648#011validation-rmse:31.3688\u001b[0m\n",
      "\u001b[34m[19]#011train-rmse:28.7666#011validation-rmse:29.4428\u001b[0m\n",
      "\u001b[34m[20]#011train-rmse:27.1735#011validation-rmse:27.5178\u001b[0m\n",
      "\u001b[34m[21]#011train-rmse:25.6646#011validation-rmse:25.8224\u001b[0m\n",
      "\u001b[34m[22]#011train-rmse:24.2826#011validation-rmse:24.2595\u001b[0m\n",
      "\u001b[34m[23]#011train-rmse:22.9524#011validation-rmse:22.7781\u001b[0m\n",
      "\u001b[34m[24]#011train-rmse:21.7048#011validation-rmse:21.3281\u001b[0m\n",
      "\u001b[34m[25]#011train-rmse:20.5606#011validation-rmse:20.0093\u001b[0m\n",
      "\u001b[34m[26]#011train-rmse:19.466#011validation-rmse:18.8734\u001b[0m\n",
      "\u001b[34m[27]#011train-rmse:18.4394#011validation-rmse:17.6456\u001b[0m\n",
      "\u001b[34m[28]#011train-rmse:17.4071#011validation-rmse:16.5264\u001b[0m\n",
      "\u001b[34m[29]#011train-rmse:16.4716#011validation-rmse:15.6395\u001b[0m\n",
      "\u001b[34m[30]#011train-rmse:15.6345#011validation-rmse:14.8967\u001b[0m\n",
      "\u001b[34m[31]#011train-rmse:14.85#011validation-rmse:14.1136\u001b[0m\n",
      "\u001b[34m[32]#011train-rmse:14.0981#011validation-rmse:13.3684\u001b[0m\n",
      "\u001b[34m[33]#011train-rmse:13.3845#011validation-rmse:12.557\u001b[0m\n",
      "\u001b[34m[34]#011train-rmse:12.7047#011validation-rmse:11.928\u001b[0m\n",
      "\u001b[34m[35]#011train-rmse:12.0842#011validation-rmse:11.2976\u001b[0m\n",
      "\u001b[34m[36]#011train-rmse:11.5189#011validation-rmse:10.857\u001b[0m\n",
      "\u001b[34m[37]#011train-rmse:11.0191#011validation-rmse:10.3098\u001b[0m\n",
      "\u001b[34m[38]#011train-rmse:10.5551#011validation-rmse:9.86061\u001b[0m\n",
      "\u001b[34m[39]#011train-rmse:10.1306#011validation-rmse:9.56006\u001b[0m\n",
      "\u001b[34m[40]#011train-rmse:9.68999#011validation-rmse:9.14184\u001b[0m\n",
      "\u001b[34m[41]#011train-rmse:9.29003#011validation-rmse:8.80708\u001b[0m\n",
      "\u001b[34m[42]#011train-rmse:8.91303#011validation-rmse:8.56764\u001b[0m\n",
      "\u001b[34m[43]#011train-rmse:8.53751#011validation-rmse:8.35138\u001b[0m\n",
      "\u001b[34m[44]#011train-rmse:8.21007#011validation-rmse:8.12447\u001b[0m\n",
      "\u001b[34m[45]#011train-rmse:7.95245#011validation-rmse:7.94812\u001b[0m\n",
      "\u001b[34m[46]#011train-rmse:7.65929#011validation-rmse:7.78268\u001b[0m\n",
      "\u001b[34m[47]#011train-rmse:7.42732#011validation-rmse:7.67344\u001b[0m\n",
      "\u001b[34m[48]#011train-rmse:7.1987#011validation-rmse:7.58584\u001b[0m\n",
      "\u001b[34m[49]#011train-rmse:6.96483#011validation-rmse:7.51971\u001b[0m\n",
      "\u001b[34m[50]#011train-rmse:6.77774#011validation-rmse:7.45961\u001b[0m\n",
      "\u001b[34m[51]#011train-rmse:6.59126#011validation-rmse:7.4129\u001b[0m\n",
      "\u001b[34m[52]#011train-rmse:6.40359#011validation-rmse:7.41959\u001b[0m\n",
      "\u001b[34m[53]#011train-rmse:6.25992#011validation-rmse:7.44631\u001b[0m\n",
      "\u001b[34m[54]#011train-rmse:6.11733#011validation-rmse:7.41235\u001b[0m\n",
      "\u001b[34m[55]#011train-rmse:5.98986#011validation-rmse:7.30203\u001b[0m\n",
      "\u001b[34m[56]#011train-rmse:5.84314#011validation-rmse:7.3265\u001b[0m\n",
      "\u001b[34m[57]#011train-rmse:5.74231#011validation-rmse:7.32128\u001b[0m\n",
      "\u001b[34m[58]#011train-rmse:5.65582#011validation-rmse:7.3279\u001b[0m\n",
      "\u001b[34m[59]#011train-rmse:5.55888#011validation-rmse:7.33722\u001b[0m\n",
      "\u001b[34m[60]#011train-rmse:5.46057#011validation-rmse:7.35749\u001b[0m\n",
      "\u001b[34m[61]#011train-rmse:5.38559#011validation-rmse:7.36791\u001b[0m\n",
      "\u001b[34m[62]#011train-rmse:5.29845#011validation-rmse:7.36193\u001b[0m\n",
      "\u001b[34m[63]#011train-rmse:5.24979#011validation-rmse:7.39548\u001b[0m\n",
      "\u001b[34m[64]#011train-rmse:5.18712#011validation-rmse:7.40505\u001b[0m\n",
      "\u001b[34m[65]#011train-rmse:5.17373#011validation-rmse:7.42839\u001b[0m\n",
      "Training seconds: 54\n",
      "Billable seconds: 54\n"
     ]
    }
   ],
   "source": [
    "xgb_attached = sagemaker.estimator.Estimator.attach(xgb_hyperparameter_tuner.best_training_job())"
   ]
  },
  {
   "cell_type": "code",
   "execution_count": 65,
   "metadata": {},
   "outputs": [],
   "source": [
    "xgb_transformer = xgb_attached.transformer(instance_count = 1, instance_type = 'ml.m4.xlarge')"
   ]
  },
  {
   "cell_type": "code",
   "execution_count": 66,
   "metadata": {},
   "outputs": [],
   "source": [
    "xgb_transformer.transform(test_location, content_type='text/csv', split_type='Line')"
   ]
  },
  {
   "cell_type": "code",
   "execution_count": 67,
   "metadata": {},
   "outputs": [
    {
     "name": "stdout",
     "output_type": "stream",
     "text": [
      "......................\u001b[34m[2019-12-24 15:47:27 +0000] [17] [INFO] Starting gunicorn 19.10.0\u001b[0m\n",
      "\u001b[34m[2019-12-24 15:47:27 +0000] [17] [INFO] Listening at: unix:/tmp/gunicorn.sock (17)\u001b[0m\n",
      "\u001b[34m[2019-12-24 15:47:27 +0000] [17] [INFO] Using worker: gevent\u001b[0m\n",
      "\u001b[34m[2019-12-24 15:47:27 +0000] [24] [INFO] Booting worker with pid: 24\u001b[0m\n",
      "\u001b[34m[2019-12-24 15:47:27 +0000] [25] [INFO] Booting worker with pid: 25\u001b[0m\n",
      "\u001b[34m[2019-12-24 15:47:27 +0000] [29] [INFO] Booting worker with pid: 29\u001b[0m\n",
      "\u001b[34m[2019-12-24 15:47:27 +0000] [33] [INFO] Booting worker with pid: 33\u001b[0m\n",
      "\u001b[34m[2019-12-24:15:47:49:INFO] No GPUs detected (normal if no gpus installed)\u001b[0m\n",
      "\u001b[34m169.254.255.130 - - [24/Dec/2019:15:47:49 +0000] \"GET /ping HTTP/1.1\" 200 0 \"-\" \"Go-http-client/1.1\"\u001b[0m\n",
      "\u001b[34m[2019-12-24:15:47:49:INFO] No GPUs detected (normal if no gpus installed)\u001b[0m\n",
      "\u001b[34m169.254.255.130 - - [24/Dec/2019:15:47:49 +0000] \"GET /execution-parameters HTTP/1.1\" 200 84 \"-\" \"Go-http-client/1.1\"\u001b[0m\n",
      "\u001b[34m[2019-12-24:15:47:49:INFO] Determined delimiter of CSV input is ','\u001b[0m\n",
      "\u001b[34m169.254.255.130 - - [24/Dec/2019:15:47:49 +0000] \"POST /invocations HTTP/1.1\" 200 1971 \"-\" \"Go-http-client/1.1\"\u001b[0m\n",
      "\u001b[35m[2019-12-24:15:47:49:INFO] No GPUs detected (normal if no gpus installed)\u001b[0m\n",
      "\u001b[35m169.254.255.130 - - [24/Dec/2019:15:47:49 +0000] \"GET /ping HTTP/1.1\" 200 0 \"-\" \"Go-http-client/1.1\"\u001b[0m\n",
      "\u001b[35m[2019-12-24:15:47:49:INFO] No GPUs detected (normal if no gpus installed)\u001b[0m\n",
      "\u001b[35m169.254.255.130 - - [24/Dec/2019:15:47:49 +0000] \"GET /execution-parameters HTTP/1.1\" 200 84 \"-\" \"Go-http-client/1.1\"\u001b[0m\n",
      "\u001b[35m[2019-12-24:15:47:49:INFO] Determined delimiter of CSV input is ','\u001b[0m\n",
      "\u001b[35m169.254.255.130 - - [24/Dec/2019:15:47:49 +0000] \"POST /invocations HTTP/1.1\" 200 1971 \"-\" \"Go-http-client/1.1\"\u001b[0m\n",
      "\u001b[32m2019-12-24T15:47:49.122:[sagemaker logs]: MaxConcurrentTransforms=4, MaxPayloadInMB=6, BatchStrategy=MULTI_RECORD\u001b[0m\n",
      "\n"
     ]
    }
   ],
   "source": [
    "xgb_transformer.wait()"
   ]
  },
  {
   "cell_type": "code",
   "execution_count": 68,
   "metadata": {},
   "outputs": [
    {
     "name": "stdout",
     "output_type": "stream",
     "text": [
      "Completed 1.9 KiB/1.9 KiB (30.1 KiB/s) with 1 file(s) remaining\r",
      "download: s3://sagemaker-us-east-1-561941966718/sagemaker-xgboost-191224-1518-019-9fd2d-2019-12-24-15-44-07-729/test.csv.out to Data/ltc_3yr_hypertuner_30d_val/test.csv.out\r\n"
     ]
    }
   ],
   "source": [
    "!aws s3 cp --recursive $xgb_transformer.output_path $data_dir"
   ]
  },
  {
   "cell_type": "code",
   "execution_count": 69,
   "metadata": {},
   "outputs": [],
   "source": [
    "Y_pred = pd.read_csv(os.path.join(data_dir, 'test.csv.out'), header=None)"
   ]
  },
  {
   "cell_type": "code",
   "execution_count": 70,
   "metadata": {},
   "outputs": [
    {
     "data": {
      "image/png": "[encoded data removed]",
      "text/plain": [
       "<Figure size 864x432 with 1 Axes>"
      ]
     },
     "metadata": {},
     "output_type": "display_data"
    }
   ],
   "source": [
    "plt.figure(figsize=(12,6))\n",
    "plt.plot(range(len(Y_pred)), Y_pred, label='predicted')\n",
    "plt.plot(range(len(Y_pred)), Y_test, color='r', label='actual')\n",
    "plt.legend()\n",
    "plt.show()"
   ]
  },
  {
   "cell_type": "code",
   "execution_count": 73,
   "metadata": {},
   "outputs": [
    {
     "name": "stdout",
     "output_type": "stream",
     "text": [
      "Test loss is 5.245484510037992.\n"
     ]
    }
   ],
   "source": [
    "get_test_loss(Y_pred, Y_test)"
   ]
  },
  {
   "cell_type": "code",
   "execution_count": 74,
   "metadata": {
    "scrolled": true
   },
   "outputs": [
    {
     "name": "stdout",
     "output_type": "stream",
     "text": [
      "Investing $0.00\n",
      "Holding $-1227.08\n",
      "Investing $-1227.08\n",
      "Holding $517.45\n",
      "Investing $517.45\n",
      "Holding $1157.12\n",
      "Investing $1157.12\n",
      "Holding $185.33\n",
      "Investing $185.33\n",
      "Holding $-402.98\n",
      "Investing $-402.98\n",
      "Holding $-727.96\n",
      "Investing $-727.96\n",
      "Holding $-785.15\n",
      "Investing $-785.15\n",
      "Holding $-1049.80\n",
      "Investing $-1049.80\n",
      "Holding $-818.98\n",
      "Investing $-818.98\n",
      "Holding $590.46\n",
      "Investing $590.46\n",
      "Holding $1172.33\n",
      "Investing $1172.33\n",
      "Holding $3534.44\n",
      "Investing $3534.44\n",
      "Holding $2939.22\n",
      "Investing $2939.22\n",
      "Holding $2105.80\n",
      "Investing $2105.80\n",
      "Holding $1571.06\n",
      "Investing $1571.06\n",
      "Holding $1772.02\n",
      "Investing $1772.02\n",
      "Holding $1756.12\n",
      "Investing $1756.12\n",
      "Holding $888.49\n",
      "Investing $888.49\n",
      "Holding $822.86\n",
      "Investing $822.86\n",
      "Holding $92.01\n",
      "Investing $92.01\n",
      "Holding $-511.78\n",
      "Investing $-511.78\n",
      "Holding $-661.27\n",
      "Investing $-661.27\n",
      "Holding $2660.79\n",
      "Investing $2660.79\n",
      "Holding $1956.41\n",
      "Investing $1956.41\n",
      "Holding $1966.17\n",
      "Investing $1966.17\n",
      "Holding $2014.71\n",
      "Investing $2014.71\n",
      "Holding $2064.71\n",
      "Investing $2064.71\n",
      "Holding $1897.86\n",
      "Total return on investment before taxes is $1897.86\n"
     ]
    }
   ],
   "source": [
    "roi_display(20000, Y_pred, Y_test)"
   ]
  },
  {
   "cell_type": "markdown",
   "metadata": {},
   "source": [
    "# Hyperparameter Tuning with Shuffled Training and Validation Sets"
   ]
  },
  {
   "cell_type": "code",
   "execution_count": 83,
   "metadata": {},
   "outputs": [],
   "source": [
    "X_train, X_test, Y_train, Y_test = sklearn.model_selection.train_test_split(X_df, Y_df, test_size=0.1, shuffle=False)\n",
    "X_train, X_val, Y_train, Y_val = sklearn.model_selection.train_test_split(X_train, Y_train, test_size=0.091, shuffle=True)"
   ]
  },
  {
   "cell_type": "code",
   "execution_count": 84,
   "metadata": {},
   "outputs": [
    {
     "data": {
      "text/plain": [
       "90"
      ]
     },
     "execution_count": 84,
     "metadata": {},
     "output_type": "execute_result"
    }
   ],
   "source": [
    "len(Y_val)"
   ]
  },
  {
   "cell_type": "code",
   "execution_count": 85,
   "metadata": {},
   "outputs": [
    {
     "name": "stdout",
     "output_type": "stream",
     "text": [
      "Tests Passed!\n"
     ]
    }
   ],
   "source": [
    "assert len(X_train) == len(Y_train), \\\n",
    "    'Train lengths aren\\'t equal'\n",
    "assert len(X_test) == len(Y_test), \\\n",
    "    'Test lengths aren\\'t equal'\n",
    "assert X_test['PriceUSD'][999] == Y_test['Label'][998], \\\n",
    "    'Test values aren\\'t matching'\n",
    "assert X_train['PriceUSD'][22] == Y_train['Label'][21], \\\n",
    "    'Train values aren\\'t matching'\n",
    "\n",
    "print('Tests Passed!')    "
   ]
  },
  {
   "cell_type": "code",
   "execution_count": 86,
   "metadata": {},
   "outputs": [],
   "source": [
    "data_dir = 'Data/ltc_3yr_hypertuner_90d_shuffled_val'\n",
    "if not os.path.exists(data_dir):\n",
    "    os.makedirs(data_dir)"
   ]
  },
  {
   "cell_type": "code",
   "execution_count": 87,
   "metadata": {},
   "outputs": [],
   "source": [
    "X_test.to_csv(os.path.join(data_dir, 'test.csv'), header=False, index=False)\n",
    "\n",
    "pd.concat([Y_val, X_val], axis=1).to_csv(os.path.join(data_dir, 'validation.csv'), header=False, index=False)\n",
    "pd.concat([Y_train, X_train], axis=1).to_csv(os.path.join(data_dir, 'train.csv'), header=False, index=False)"
   ]
  },
  {
   "cell_type": "code",
   "execution_count": 88,
   "metadata": {},
   "outputs": [],
   "source": [
    "prefix = 'ltc-xgboost-tuning'\n",
    "\n",
    "test_location = sagemaker_session.upload_data(os.path.join(data_dir, 'test.csv'), key_prefix=prefix)\n",
    "val_location = sagemaker_session.upload_data(os.path.join(data_dir, 'validation.csv'), key_prefix=prefix)\n",
    "train_location = sagemaker_session.upload_data(os.path.join(data_dir, 'train.csv'), key_prefix=prefix)"
   ]
  },
  {
   "cell_type": "code",
   "execution_count": 89,
   "metadata": {},
   "outputs": [],
   "source": [
    "container = get_image_uri(sagemaker_session.boto_region_name, 'xgboost', '0.90-1')\n",
    "\n",
    "# Now that we know which container to use, we can construct the estimator object.\n",
    "xgb = sagemaker.estimator.Estimator(container, # The image name of the training container\n",
    "                                    role,      # The IAM role to use (our current role in this case)\n",
    "                                    train_instance_count=1, # The number of instances to use for training\n",
    "                                    train_instance_type='ml.m4.xlarge', # The type of instance to use for training\n",
    "                                    output_path='s3://{}/{}/output'.format(bucket, prefix),\n",
    "                                                                        # Where to save the output (the model artifacts)\n",
    "                                    sagemaker_session=sagemaker_session) # The current SageMaker session"
   ]
  },
  {
   "cell_type": "code",
   "execution_count": 90,
   "metadata": {},
   "outputs": [],
   "source": [
    "xgb.set_hyperparameters(max_depth=5,\n",
    "                        eta=0.2,\n",
    "                        gamma=4,\n",
    "                        min_child_weight=6,\n",
    "                        subsample=0.8,\n",
    "                        objective='reg:squarederror',\n",
    "                        early_stopping_rounds=10,\n",
    "                        num_round=200)"
   ]
  },
  {
   "cell_type": "code",
   "execution_count": 91,
   "metadata": {},
   "outputs": [],
   "source": [
    "xgb_hyperparameter_tuner = HyperparameterTuner(estimator = xgb, # The estimator object to use as the basis for the training jobs.\n",
    "                                               objective_metric_name = 'validation:rmse', # The metric used to compare trained models.\n",
    "                                               objective_type = 'Minimize', # Whether we wish to minimize or maximize the metric.\n",
    "                                               max_jobs = 20, # The total number of models to train\n",
    "                                               max_parallel_jobs = 3, # The number of models to train in parallel\n",
    "                                               hyperparameter_ranges = {\n",
    "                                                    'max_depth': IntegerParameter(3, 12),\n",
    "                                                    'eta'      : ContinuousParameter(0.05, 0.5),\n",
    "                                                    'min_child_weight': IntegerParameter(2, 8),\n",
    "                                                    'subsample': ContinuousParameter(0.5, 0.9),\n",
    "                                                    'gamma': ContinuousParameter(0, 10),\n",
    "                                               })"
   ]
  },
  {
   "cell_type": "code",
   "execution_count": 92,
   "metadata": {},
   "outputs": [],
   "source": [
    "# This is a wrapper around the location of our train and validation data, to make sure that SageMaker\n",
    "# knows our data is in csv format.\n",
    "s3_input_train = sagemaker.s3_input(s3_data=train_location, content_type='csv')\n",
    "s3_input_validation = sagemaker.s3_input(s3_data=val_location, content_type='csv')\n",
    "\n",
    "xgb_hyperparameter_tuner.fit({'train': s3_input_train, 'validation': s3_input_validation})"
   ]
  },
  {
   "cell_type": "code",
   "execution_count": 93,
   "metadata": {},
   "outputs": [
    {
     "name": "stdout",
     "output_type": "stream",
     "text": [
      "..........................................................................................................................................................................................................................................................................................................!\n"
     ]
    }
   ],
   "source": [
    "xgb_hyperparameter_tuner.wait()"
   ]
  },
  {
   "cell_type": "code",
   "execution_count": 94,
   "metadata": {},
   "outputs": [
    {
     "data": {
      "text/plain": [
       "'sagemaker-xgboost-191224-1550-003-460c6617'"
      ]
     },
     "execution_count": 94,
     "metadata": {},
     "output_type": "execute_result"
    }
   ],
   "source": [
    "xgb_hyperparameter_tuner.best_training_job()"
   ]
  },
  {
   "cell_type": "code",
   "execution_count": 95,
   "metadata": {},
   "outputs": [
    {
     "name": "stdout",
     "output_type": "stream",
     "text": [
      "2019-12-24 15:53:42 Starting - Preparing the instances for training\n",
      "2019-12-24 15:53:42 Downloading - Downloading input data\n",
      "2019-12-24 15:53:42 Training - Training image download completed. Training in progress.\n",
      "2019-12-24 15:53:42 Uploading - Uploading generated training model\n",
      "2019-12-24 15:53:42 Completed - Training job completed\u001b[34mINFO:sagemaker-containers:Imported framework sagemaker_xgboost_container.training\u001b[0m\n",
      "\u001b[34mINFO:sagemaker-containers:Failed to parse hyperparameter _tuning_objective_metric value validation:rmse to Json.\u001b[0m\n",
      "\u001b[34mReturning the value itself\u001b[0m\n",
      "\u001b[34mINFO:sagemaker-containers:Failed to parse hyperparameter objective value reg:squarederror to Json.\u001b[0m\n",
      "\u001b[34mReturning the value itself\u001b[0m\n",
      "\u001b[34mINFO:sagemaker-containers:No GPUs detected (normal if no gpus installed)\u001b[0m\n",
      "\u001b[34mINFO:sagemaker_xgboost_container.training:Running XGBoost Sagemaker in algorithm mode\u001b[0m\n",
      "\u001b[34mINFO:root:Determined delimiter of CSV input is ','\u001b[0m\n",
      "\u001b[34mINFO:root:Determined delimiter of CSV input is ','\u001b[0m\n",
      "\u001b[34mINFO:root:Determined delimiter of CSV input is ','\u001b[0m\n",
      "\u001b[34m[15:53:32] 896x39 matrix with 34944 entries loaded from /opt/ml/input/data/train?format=csv&label_column=0&delimiter=,\u001b[0m\n",
      "\u001b[34mINFO:root:Determined delimiter of CSV input is ','\u001b[0m\n",
      "\u001b[34m[15:53:32] 90x39 matrix with 3510 entries loaded from /opt/ml/input/data/validation?format=csv&label_column=0&delimiter=,\u001b[0m\n",
      "\u001b[34mINFO:root:Single node training.\u001b[0m\n",
      "\u001b[34mINFO:root:Setting up HPO optimized metric to be : rmse\u001b[0m\n",
      "\u001b[34mINFO:root:Train matrix has 896 rows\u001b[0m\n",
      "\u001b[34mINFO:root:Validation matrix has 90 rows\u001b[0m\n",
      "\u001b[34m[0]#011train-rmse:69.1001#011validation-rmse:57.0682\u001b[0m\n",
      "\u001b[34m[1]#011train-rmse:48.8954#011validation-rmse:39.7779\u001b[0m\n",
      "\u001b[34m[2]#011train-rmse:35.1853#011validation-rmse:28.2497\u001b[0m\n",
      "\u001b[34m[3]#011train-rmse:25.0542#011validation-rmse:19.2517\u001b[0m\n",
      "\u001b[34m[4]#011train-rmse:18.0472#011validation-rmse:13.7187\u001b[0m\n",
      "\u001b[34m[5]#011train-rmse:13.5402#011validation-rmse:10.2759\u001b[0m\n",
      "\u001b[34m[6]#011train-rmse:10.7228#011validation-rmse:7.89569\u001b[0m\n",
      "\u001b[34m[7]#011train-rmse:8.59731#011validation-rmse:6.5745\u001b[0m\n",
      "\u001b[34m[8]#011train-rmse:7.22333#011validation-rmse:5.86425\u001b[0m\n",
      "\u001b[34m[9]#011train-rmse:6.27462#011validation-rmse:5.32664\u001b[0m\n",
      "\u001b[34m[10]#011train-rmse:5.78299#011validation-rmse:5.22506\u001b[0m\n",
      "\u001b[34m[11]#011train-rmse:5.41667#011validation-rmse:5.08888\u001b[0m\n",
      "\u001b[34m[12]#011train-rmse:5.15039#011validation-rmse:5.2146\u001b[0m\n",
      "\u001b[34m[13]#011train-rmse:4.94058#011validation-rmse:5.21062\u001b[0m\n",
      "\u001b[34m[14]#011train-rmse:4.82569#011validation-rmse:5.18551\u001b[0m\n",
      "\u001b[34m[15]#011train-rmse:4.69352#011validation-rmse:5.19988\u001b[0m\n",
      "\u001b[34m[16]#011train-rmse:4.53185#011validation-rmse:5.1275\u001b[0m\n",
      "\u001b[34m[17]#011train-rmse:4.27681#011validation-rmse:5.04067\u001b[0m\n",
      "\u001b[34m[18]#011train-rmse:4.20783#011validation-rmse:5.08794\u001b[0m\n",
      "\u001b[34m[19]#011train-rmse:4.0662#011validation-rmse:5.16636\u001b[0m\n",
      "\u001b[34m[20]#011train-rmse:3.98279#011validation-rmse:5.13828\u001b[0m\n",
      "\u001b[34m[21]#011train-rmse:3.91336#011validation-rmse:5.14382\u001b[0m\n",
      "\u001b[34m[22]#011train-rmse:3.79485#011validation-rmse:5.15012\u001b[0m\n",
      "\u001b[34m[23]#011train-rmse:3.73426#011validation-rmse:5.12023\u001b[0m\n",
      "\u001b[34m[24]#011train-rmse:3.61536#011validation-rmse:5.02215\u001b[0m\n",
      "\u001b[34m[25]#011train-rmse:3.54491#011validation-rmse:5.0186\u001b[0m\n",
      "\u001b[34m[26]#011train-rmse:3.50843#011validation-rmse:5.03562\u001b[0m\n",
      "\u001b[34m[27]#011train-rmse:3.43755#011validation-rmse:5.08575\u001b[0m\n",
      "\u001b[34m[28]#011train-rmse:3.36482#011validation-rmse:5.04906\u001b[0m\n",
      "\u001b[34m[29]#011train-rmse:3.27512#011validation-rmse:5.1631\u001b[0m\n",
      "\u001b[34m[30]#011train-rmse:3.21665#011validation-rmse:5.20392\u001b[0m\n",
      "\u001b[34m[31]#011train-rmse:3.13016#011validation-rmse:5.21332\u001b[0m\n",
      "\u001b[34m[32]#011train-rmse:3.02712#011validation-rmse:5.20067\u001b[0m\n",
      "\u001b[34m[33]#011train-rmse:2.94052#011validation-rmse:5.16257\u001b[0m\n",
      "\u001b[34m[34]#011train-rmse:2.88484#011validation-rmse:5.15439\u001b[0m\n",
      "\u001b[34m[35]#011train-rmse:2.84351#011validation-rmse:5.0958\u001b[0m\n",
      "Training seconds: 58\n",
      "Billable seconds: 58\n"
     ]
    }
   ],
   "source": [
    "xgb_attached = sagemaker.estimator.Estimator.attach(xgb_hyperparameter_tuner.best_training_job())"
   ]
  },
  {
   "cell_type": "code",
   "execution_count": 96,
   "metadata": {},
   "outputs": [],
   "source": [
    "xgb_transformer = xgb_attached.transformer(instance_count = 1, instance_type = 'ml.m4.xlarge')"
   ]
  },
  {
   "cell_type": "code",
   "execution_count": 97,
   "metadata": {},
   "outputs": [],
   "source": [
    "xgb_transformer.transform(test_location, content_type='text/csv', split_type='Line')"
   ]
  },
  {
   "cell_type": "code",
   "execution_count": 98,
   "metadata": {},
   "outputs": [
    {
     "name": "stdout",
     "output_type": "stream",
     "text": [
      ".........................\u001b[34m[2019-12-24 16:19:43 +0000] [15] [INFO] Starting gunicorn 19.10.0\u001b[0m\n",
      "\u001b[34m[2019-12-24 16:19:43 +0000] [15] [INFO] Listening at: unix:/tmp/gunicorn.sock (15)\u001b[0m\n",
      "\u001b[34m[2019-12-24 16:19:43 +0000] [15] [INFO] Using worker: gevent\u001b[0m\n",
      "\u001b[34m[2019-12-24 16:19:43 +0000] [22] [INFO] Booting worker with pid: 22\u001b[0m\n",
      "\u001b[34m[2019-12-24 16:19:43 +0000] [23] [INFO] Booting worker with pid: 23\u001b[0m\n",
      "\u001b[34m[2019-12-24 16:19:43 +0000] [27] [INFO] Booting worker with pid: 27\u001b[0m\n",
      "\u001b[34m[2019-12-24 16:19:43 +0000] [28] [INFO] Booting worker with pid: 28\u001b[0m\n",
      "\n",
      "\u001b[34m[2019-12-24:16:20:15:INFO] No GPUs detected (normal if no gpus installed)\u001b[0m\n",
      "\u001b[34m169.254.255.130 - - [24/Dec/2019:16:20:15 +0000] \"GET /ping HTTP/1.1\" 200 0 \"-\" \"Go-http-client/1.1\"\u001b[0m\n",
      "\u001b[34m[2019-12-24:16:20:15:INFO] No GPUs detected (normal if no gpus installed)\u001b[0m\n",
      "\u001b[34m169.254.255.130 - - [24/Dec/2019:16:20:15 +0000] \"GET /execution-parameters HTTP/1.1\" 200 84 \"-\" \"Go-http-client/1.1\"\u001b[0m\n",
      "\u001b[34m[2019-12-24:16:20:15:INFO] No GPUs detected (normal if no gpus installed)\u001b[0m\n",
      "\u001b[34m[2019-12-24:16:20:15:INFO] Determined delimiter of CSV input is ','\u001b[0m\n",
      "\u001b[34m169.254.255.130 - - [24/Dec/2019:16:20:15 +0000] \"POST /invocations HTTP/1.1\" 200 1983 \"-\" \"Go-http-client/1.1\"\u001b[0m\n",
      "\u001b[35m[2019-12-24:16:20:15:INFO] No GPUs detected (normal if no gpus installed)\u001b[0m\n",
      "\u001b[35m169.254.255.130 - - [24/Dec/2019:16:20:15 +0000] \"GET /ping HTTP/1.1\" 200 0 \"-\" \"Go-http-client/1.1\"\u001b[0m\n",
      "\u001b[35m[2019-12-24:16:20:15:INFO] No GPUs detected (normal if no gpus installed)\u001b[0m\n",
      "\u001b[35m169.254.255.130 - - [24/Dec/2019:16:20:15 +0000] \"GET /execution-parameters HTTP/1.1\" 200 84 \"-\" \"Go-http-client/1.1\"\u001b[0m\n",
      "\u001b[35m[2019-12-24:16:20:15:INFO] No GPUs detected (normal if no gpus installed)\u001b[0m\n",
      "\u001b[35m[2019-12-24:16:20:15:INFO] Determined delimiter of CSV input is ','\u001b[0m\n",
      "\u001b[35m169.254.255.130 - - [24/Dec/2019:16:20:15 +0000] \"POST /invocations HTTP/1.1\" 200 1983 \"-\" \"Go-http-client/1.1\"\u001b[0m\n",
      "\u001b[32m2019-12-24T16:20:15.181:[sagemaker logs]: MaxConcurrentTransforms=4, MaxPayloadInMB=6, BatchStrategy=MULTI_RECORD\u001b[0m\n"
     ]
    }
   ],
   "source": [
    "xgb_transformer.wait()"
   ]
  },
  {
   "cell_type": "code",
   "execution_count": 99,
   "metadata": {},
   "outputs": [
    {
     "name": "stdout",
     "output_type": "stream",
     "text": [
      "Completed 1.9 KiB/1.9 KiB (18.2 KiB/s) with 1 file(s) remaining\r",
      "download: s3://sagemaker-us-east-1-561941966718/sagemaker-xgboost-191224-1550-003-460c6-2019-12-24-16-15-49-778/test.csv.out to Data/ltc_3yr_hypertuner_90d_shuffled_val/test.csv.out\r\n"
     ]
    }
   ],
   "source": [
    "!aws s3 cp --recursive $xgb_transformer.output_path $data_dir"
   ]
  },
  {
   "cell_type": "code",
   "execution_count": 100,
   "metadata": {},
   "outputs": [],
   "source": [
    "Y_pred = pd.read_csv(os.path.join(data_dir, 'test.csv.out'), header=None)"
   ]
  },
  {
   "cell_type": "code",
   "execution_count": 101,
   "metadata": {},
   "outputs": [
    {
     "data": {
      "image/png": "[encoded data removed]",
      "text/plain": [
       "<Figure size 864x432 with 1 Axes>"
      ]
     },
     "metadata": {},
     "output_type": "display_data"
    }
   ],
   "source": [
    "plt.figure(figsize=(12,6))\n",
    "plt.plot(range(len(Y_pred)), Y_pred, label='predicted')\n",
    "plt.plot(range(len(Y_pred)), Y_test, color='r', label='actual')\n",
    "plt.legend()\n",
    "plt.show()"
   ]
  },
  {
   "cell_type": "code",
   "execution_count": 102,
   "metadata": {},
   "outputs": [
    {
     "name": "stdout",
     "output_type": "stream",
     "text": [
      "Test loss is 3.011071809254127.\n"
     ]
    }
   ],
   "source": [
    "get_test_loss(Y_pred, Y_test)"
   ]
  },
  {
   "cell_type": "code",
   "execution_count": 103,
   "metadata": {},
   "outputs": [],
   "source": [
    "def roi_display(initial_investment, predictions, actual, transaction_rate=0, buy_threshold=0,\\\n",
    "    sell_threshold=0):\n",
    "    \"\"\"Returns total return on investment through the following inputs:\n",
    "    - initial_investment: initial dollar amount to be invested\n",
    "    - predictions: numpy array of EOD stock price predictions from xgboost model\n",
    "    - actual: numpy array of actual end of day stock prices\n",
    "    - transaction_rate: rate to be charged each time transaction is made\n",
    "    - buy_threshold: prediction percentage of growth before executing buying\n",
    "        transaction\n",
    "    - sell_threshold: prediction percentage of loss before executing selling\n",
    "        transaction\n",
    "    \"\"\"\n",
    "\n",
    "    investing = 0\n",
    "    holding = initial_investment\n",
    "    predictions = predictions[0]\n",
    "    actual = actual['Label']\n",
    "    actual.index = np.arange(len(predictions))\n",
    "    \n",
    "    for i in range(len(predictions)-1):\n",
    "        if holding > 0:\n",
    "            if predictions[i+1]*(1-buy_threshold) > predictions[i]:\n",
    "                investing = (holding*(1-transaction_rate)) / actual[i]\n",
    "                print('Investing ${:.2f}'.format(holding - initial_investment))\n",
    "                holding = 0         \n",
    "        if investing > 0:\n",
    "            if predictions[i+1]*(1+sell_threshold) < predictions[i]:\n",
    "                holding = (investing * actual[i])*(1-transaction_rate)\n",
    "                investing = 0\n",
    "                print('Holding ${:.2f}'.format(holding - initial_investment))\n",
    "\n",
    "    if holding > 0:\n",
    "        print('Total return on investment before taxes is ${:.2f}'.format(\\\n",
    "        holding - initial_investment))\n",
    "    else:\n",
    "        print('Total return on investment before taxes is ${:.2f}'.format(\\\n",
    "            investing * actual[361] - initial_investment))"
   ]
  },
  {
   "cell_type": "code",
   "execution_count": 104,
   "metadata": {},
   "outputs": [
    {
     "name": "stdout",
     "output_type": "stream",
     "text": [
      "Investing $0.00\n",
      "Holding $2047.34\n",
      "Investing $2047.34\n",
      "Holding $2734.70\n",
      "Investing $2734.70\n",
      "Holding $2235.95\n",
      "Investing $2235.95\n",
      "Holding $2310.13\n",
      "Investing $2310.13\n",
      "Holding $58.86\n",
      "Investing $58.86\n",
      "Holding $-525.77\n",
      "Investing $-525.77\n",
      "Holding $-370.06\n",
      "Investing $-370.06\n",
      "Holding $-954.30\n",
      "Investing $-954.30\n",
      "Holding $-2686.23\n",
      "Investing $-2686.23\n",
      "Holding $-2476.80\n",
      "Investing $-2476.80\n",
      "Holding $-3015.64\n",
      "Investing $-3015.64\n",
      "Holding $-1829.09\n",
      "Investing $-1829.09\n",
      "Holding $-1355.38\n",
      "Investing $-1355.38\n",
      "Holding $-1589.35\n",
      "Investing $-1589.35\n",
      "Holding $-2034.71\n",
      "Investing $-2034.71\n",
      "Holding $-1867.35\n",
      "Investing $-1867.35\n",
      "Holding $-1030.95\n",
      "Investing $-1030.95\n",
      "Holding $-1632.28\n",
      "Investing $-1632.28\n",
      "Holding $-3003.83\n",
      "Investing $-3003.83\n",
      "Holding $-3514.58\n",
      "Investing $-3514.58\n",
      "Holding $-3974.58\n",
      "Investing $-3974.58\n",
      "Holding $-1221.68\n",
      "Investing $-1221.68\n",
      "Holding $-1805.39\n",
      "Investing $-1805.39\n",
      "Holding $-1765.62\n",
      "Investing $-1765.62\n",
      "Holding $-1014.99\n",
      "Investing $-1014.99\n",
      "Holding $-1158.56\n",
      "Total return on investment before taxes is $-1158.56\n"
     ]
    }
   ],
   "source": [
    "roi_display(20000, Y_pred, Y_test)"
   ]
  },
  {
   "cell_type": "code",
   "execution_count": null,
   "metadata": {},
   "outputs": [],
   "source": []
  }
 ],
 "metadata": {
  "kernelspec": {
   "display_name": "conda_mxnet_p36",
   "language": "python",
   "name": "conda_mxnet_p36"
  },
  "language_info": {
   "codemirror_mode": {
    "name": "ipython",
    "version": 3
   },
   "file_extension": ".py",
   "mimetype": "text/x-python",
   "name": "python",
   "nbconvert_exporter": "python",
   "pygments_lexer": "ipython3",
   "version": "3.6.5"
  }
 },
 "nbformat": 4,
 "nbformat_minor": 2
}
